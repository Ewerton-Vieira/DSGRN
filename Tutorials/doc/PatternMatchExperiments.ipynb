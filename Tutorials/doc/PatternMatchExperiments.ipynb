{
 "cells": [
  {
   "cell_type": "markdown",
   "metadata": {
    "collapsed": true
   },
   "source": [
    "# Pattern Matching Experiments"
   ]
  },
  {
   "cell_type": "code",
   "execution_count": 1,
   "metadata": {
    "collapsed": false
   },
   "outputs": [],
   "source": [
    "from DSGRN import *"
   ]
  },
  {
   "cell_type": "markdown",
   "metadata": {},
   "source": [
    "# Networks\n",
    "\n",
    "We give two sets of networks. One of them allows for all parameters. The other is identical except it only uses essential parameters."
   ]
  },
  {
   "cell_type": "code",
   "execution_count": 2,
   "metadata": {
    "collapsed": true
   },
   "outputs": [],
   "source": [
    "network_strings = [ \n",
    "[\"SWI4 : (NDD1)(~YOX1)\", \"HCM1 : SWI4\", \"NDD1 : HCM1\", \"YOX1 : SWI4\"],\n",
    "[\"SWI4 : (NDD1)(~YOX1)\", \"HCM1 : SWI4\", \"NDD1 : HCM1\", \"YOX1 : (SWI4)(HCM1)\"],\n",
    "[\"SWI4 : (NDD1)(~YOX1)\", \"HCM1 : SWI4\", \"NDD1 : HCM1\", \"YOX1 : (SWI4)(~HCM1)\"],\n",
    "[\"SWI4 : (NDD1)(~YOX1)\", \"HCM1 : SWI4\", \"NDD1 : HCM1\", \"YOX1 : (SWI4)(NDD1)\"],\n",
    "[\"SWI4 : (NDD1)(~YOX1)\", \"HCM1 : SWI4\", \"NDD1 : HCM1\", \"YOX1 : (SWI4)(~NDD1)\"],\n",
    "[\"SWI4 : (NDD1)(~YOX1)\", \"HCM1 : (SWI4)(YOX1)\", \"NDD1 : HCM1\", \"YOX1 : SWI4\"],\n",
    "[\"SWI4 : (NDD1)(~YOX1)\", \"HCM1 : (SWI4)(~YOX1)\", \"NDD1 : HCM1\", \"YOX1 : SWI4\"],\n",
    "[\"SWI4 : (NDD1)(~YOX1)\", \"HCM1 : SWI4\", \"NDD1 : (HCM1)(YOX1)\", \"YOX1 : SWI4\"],\n",
    "[\"SWI4 : (NDD1)(~YOX1)\", \"HCM1 : SWI4\", \"NDD1 : (HCM1)(~YOX1)\", \"YOX1 : SWI4\"] ]"
   ]
  },
  {
   "cell_type": "markdown",
   "metadata": {},
   "source": [
    "## Full Networks"
   ]
  },
  {
   "cell_type": "code",
   "execution_count": 3,
   "metadata": {
    "collapsed": false
   },
   "outputs": [],
   "source": [
    "networks = [Network() for i in range(0,9)]\n",
    "for i,network in enumerate(networks):\n",
    "    network.assign('\\n'.join(network_strings[i]))"
   ]
  },
  {
   "cell_type": "markdown",
   "metadata": {},
   "source": [
    "## Essential Networks"
   ]
  },
  {
   "cell_type": "code",
   "execution_count": 4,
   "metadata": {
    "collapsed": true
   },
   "outputs": [],
   "source": [
    "essential_network_strings = [ [ line + \" : E\" for line in network_string ] for network_string in network_strings]\n",
    "essential_networks = [Network() for i in range(0,9)]\n",
    "for i,network in enumerate(essential_networks):\n",
    "    network.assign('\\n'.join(essential_network_strings[i]))"
   ]
  },
  {
   "cell_type": "markdown",
   "metadata": {},
   "source": [
    "# Path match analysis\n",
    "\n",
    "We give two functions for path match analysis. One looks at the entire domain graph. The other only checks for path matches in stable Morse sets."
   ]
  },
  {
   "cell_type": "markdown",
   "metadata": {},
   "source": [
    "## Analysis on entire domain graph"
   ]
  },
  {
   "cell_type": "code",
   "execution_count": 5,
   "metadata": {
    "collapsed": true
   },
   "outputs": [],
   "source": [
    "def Analyze(network, events, event_ordering):\n",
    "    poe = PosetOfExtrema(network, events, event_ordering )\n",
    "    pattern_graph = PatternGraph(poe)\n",
    "    parameter_graph = ParameterGraph(network)\n",
    "    result = []\n",
    "    for parameter_index in range(0, parameter_graph.size()):\n",
    "        parameter = parameter_graph.parameter(parameter_index)\n",
    "        search_graph = SearchGraph(DomainGraph(parameter))\n",
    "        matching_graph = MatchingGraph(search_graph, pattern_graph);\n",
    "        if PathMatch(matching_graph):\n",
    "            result.append(parameter_index)\n",
    "    return [result,  parameter_graph.size()]"
   ]
  },
  {
   "cell_type": "markdown",
   "metadata": {},
   "source": [
    "## Analysis on stable Morse set only"
   ]
  },
  {
   "cell_type": "code",
   "execution_count": 6,
   "metadata": {
    "collapsed": true
   },
   "outputs": [],
   "source": [
    "def AnalyzeOnStable(network, events, event_ordering):\n",
    "    poe = PosetOfExtrema(network, events, event_ordering )\n",
    "    pattern_graph = PatternGraph(poe)\n",
    "    parameter_graph = ParameterGraph(network)\n",
    "    results = []\n",
    "    for parameter_index in range(0, parameter_graph.size()):\n",
    "        parameter = parameter_graph.parameter(parameter_index)\n",
    "        domain_graph = DomainGraph(parameter)\n",
    "        morse_decomposition = MorseDecomposition(domain_graph.digraph())\n",
    "        morse_graph = MorseGraph()\n",
    "        morse_graph.assign(domain_graph, morse_decomposition)\n",
    "        MorseNodes = range(0, morse_graph.poset().size())\n",
    "        isStable = lambda node : len(morse_graph.poset().children(node)) == 0\n",
    "        isStableFC = lambda node : morse_graph.annotation(node)[0] == 'FC' and isStable(node)\n",
    "        hasStableFC = any( isStableFC(node) for node in MorseNodes)\n",
    "        StableNodes = [ node for node in MorseNodes if isStable(node) ]\n",
    "        subresult = []\n",
    "        for node in StableNodes:\n",
    "            search_graph = SearchGraph(domain_graph, node)\n",
    "            matching_graph = MatchingGraph(search_graph, pattern_graph)\n",
    "            path_match = PathMatch(matching_graph)\n",
    "            if path_match:\n",
    "                subresult.append([parameter_index, node])\n",
    "        results.append([subresult, 1 if hasStableFC else 0])\n",
    "    return [results, parameter_graph.size()]"
   ]
  },
  {
   "cell_type": "markdown",
   "metadata": {},
   "source": [
    "# Poset of Extrema\n",
    "\n",
    "We study two poset of extrema. The first poset comes from looking at times [10,60] and assuming SWI4 happens before the other minima at the beginning and thus can be excluded. The other comes from including all extrema."
   ]
  },
  {
   "cell_type": "markdown",
   "metadata": {},
   "source": [
    "## Original Poset of Extrema"
   ]
  },
  {
   "cell_type": "code",
   "execution_count": 7,
   "metadata": {
    "collapsed": true
   },
   "outputs": [],
   "source": [
    "original_events = [(\"HCM1\", \"min\"), (\"NDD1\", \"min\"), (\"YOX1\", \"min\"), \n",
    "          (\"SWI4\", \"max\"), (\"HCM1\", \"max\"), (\"YOX1\", \"max\"), \n",
    "          (\"NDD1\", \"max\"),\n",
    "          (\"SWI4\",\"min\")]\n",
    "original_event_ordering = [ (i,j) for i in [0,1,2] for j in [3,4,5] ] + \\\n",
    "                 [ (i,j) for i in [3,4,5] for j in [6] ] + \\\n",
    "                 [ (i,j) for i in [6] for j in [7] ]"
   ]
  },
  {
   "cell_type": "code",
   "execution_count": 8,
   "metadata": {
    "collapsed": false
   },
   "outputs": [
    {
     "data": {
      "image/svg+xml": [
       "<?xml version=\"1.0\" encoding=\"UTF-8\" standalone=\"no\"?>\n",
       "<!DOCTYPE svg PUBLIC \"-//W3C//DTD SVG 1.1//EN\"\n",
       " \"http://www.w3.org/Graphics/SVG/1.1/DTD/svg11.dtd\">\n",
       "<!-- Generated by graphviz version 2.38.0 (20140413.2041)\n",
       " -->\n",
       "<!-- Title: %3 Pages: 1 -->\n",
       "<svg width=\"349pt\" height=\"260pt\"\n",
       " viewBox=\"0.00 0.00 348.77 260.00\" xmlns=\"http://www.w3.org/2000/svg\" xmlns:xlink=\"http://www.w3.org/1999/xlink\">\n",
       "<g id=\"graph0\" class=\"graph\" transform=\"scale(1 1) rotate(0) translate(4 256)\">\n",
       "<title>%3</title>\n",
       "<polygon fill=\"white\" stroke=\"none\" points=\"-4,4 -4,-256 344.77,-256 344.77,4 -4,4\"/>\n",
       "<!-- 0 -->\n",
       "<g id=\"node1\" class=\"node\"><title>0</title>\n",
       "<ellipse fill=\"none\" stroke=\"black\" cx=\"50.6451\" cy=\"-234\" rx=\"50.7907\" ry=\"18\"/>\n",
       "<text text-anchor=\"middle\" x=\"50.6451\" y=\"-229.8\" font-family=\"Times,serif\" font-size=\"14.00\">HCM1 min</text>\n",
       "</g>\n",
       "<!-- 3 -->\n",
       "<g id=\"node4\" class=\"node\"><title>3</title>\n",
       "<ellipse fill=\"none\" stroke=\"black\" cx=\"50.6451\" cy=\"-162\" rx=\"48.351\" ry=\"18\"/>\n",
       "<text text-anchor=\"middle\" x=\"50.6451\" y=\"-157.8\" font-family=\"Times,serif\" font-size=\"14.00\">SWI4 max</text>\n",
       "</g>\n",
       "<!-- 0&#45;&gt;3 -->\n",
       "<g id=\"edge1\" class=\"edge\"><title>0&#45;&gt;3</title>\n",
       "<path fill=\"none\" stroke=\"black\" d=\"M50.6451,-215.697C50.6451,-207.983 50.6451,-198.712 50.6451,-190.112\"/>\n",
       "<polygon fill=\"black\" stroke=\"black\" points=\"54.1452,-190.104 50.6451,-180.104 47.1452,-190.104 54.1452,-190.104\"/>\n",
       "</g>\n",
       "<!-- 4 -->\n",
       "<g id=\"node5\" class=\"node\"><title>4</title>\n",
       "<ellipse fill=\"none\" stroke=\"black\" cx=\"168.645\" cy=\"-162\" rx=\"52.2268\" ry=\"18\"/>\n",
       "<text text-anchor=\"middle\" x=\"168.645\" y=\"-157.8\" font-family=\"Times,serif\" font-size=\"14.00\">HCM1 max</text>\n",
       "</g>\n",
       "<!-- 0&#45;&gt;4 -->\n",
       "<g id=\"edge2\" class=\"edge\"><title>0&#45;&gt;4</title>\n",
       "<path fill=\"none\" stroke=\"black\" d=\"M75.6699,-218.155C92.9571,-207.9 116.148,-194.143 135.043,-182.934\"/>\n",
       "<polygon fill=\"black\" stroke=\"black\" points=\"136.842,-185.936 143.656,-177.824 133.27,-179.916 136.842,-185.936\"/>\n",
       "</g>\n",
       "<!-- 5 -->\n",
       "<g id=\"node6\" class=\"node\"><title>5</title>\n",
       "<ellipse fill=\"none\" stroke=\"black\" cx=\"289.645\" cy=\"-162\" rx=\"51.2492\" ry=\"18\"/>\n",
       "<text text-anchor=\"middle\" x=\"289.645\" y=\"-157.8\" font-family=\"Times,serif\" font-size=\"14.00\">YOX1 max</text>\n",
       "</g>\n",
       "<!-- 0&#45;&gt;5 -->\n",
       "<g id=\"edge3\" class=\"edge\"><title>0&#45;&gt;5</title>\n",
       "<path fill=\"none\" stroke=\"black\" d=\"M88.5154,-221.908C129.999,-209.758 196.621,-190.246 241.715,-177.038\"/>\n",
       "<polygon fill=\"black\" stroke=\"black\" points=\"242.944,-180.325 251.557,-174.155 240.976,-173.607 242.944,-180.325\"/>\n",
       "</g>\n",
       "<!-- 1 -->\n",
       "<g id=\"node2\" class=\"node\"><title>1</title>\n",
       "<ellipse fill=\"none\" stroke=\"black\" cx=\"168.645\" cy=\"-234\" rx=\"49.8131\" ry=\"18\"/>\n",
       "<text text-anchor=\"middle\" x=\"168.645\" y=\"-229.8\" font-family=\"Times,serif\" font-size=\"14.00\">NDD1 min</text>\n",
       "</g>\n",
       "<!-- 1&#45;&gt;3 -->\n",
       "<g id=\"edge4\" class=\"edge\"><title>1&#45;&gt;3</title>\n",
       "<path fill=\"none\" stroke=\"black\" d=\"M143.908,-218.326C126.523,-208.012 103.063,-194.095 84.0217,-182.8\"/>\n",
       "<polygon fill=\"black\" stroke=\"black\" points=\"85.7355,-179.747 75.3492,-177.655 82.1641,-185.767 85.7355,-179.747\"/>\n",
       "</g>\n",
       "<!-- 1&#45;&gt;4 -->\n",
       "<g id=\"edge5\" class=\"edge\"><title>1&#45;&gt;4</title>\n",
       "<path fill=\"none\" stroke=\"black\" d=\"M168.645,-215.697C168.645,-207.983 168.645,-198.712 168.645,-190.112\"/>\n",
       "<polygon fill=\"black\" stroke=\"black\" points=\"172.145,-190.104 168.645,-180.104 165.145,-190.104 172.145,-190.104\"/>\n",
       "</g>\n",
       "<!-- 1&#45;&gt;5 -->\n",
       "<g id=\"edge6\" class=\"edge\"><title>1&#45;&gt;5</title>\n",
       "<path fill=\"none\" stroke=\"black\" d=\"M194.011,-218.326C211.838,-208.012 235.895,-194.095 255.42,-182.8\"/>\n",
       "<polygon fill=\"black\" stroke=\"black\" points=\"257.41,-185.692 264.313,-177.655 253.904,-179.633 257.41,-185.692\"/>\n",
       "</g>\n",
       "<!-- 2 -->\n",
       "<g id=\"node3\" class=\"node\"><title>2</title>\n",
       "<ellipse fill=\"none\" stroke=\"black\" cx=\"285.645\" cy=\"-234\" rx=\"49.8131\" ry=\"18\"/>\n",
       "<text text-anchor=\"middle\" x=\"285.645\" y=\"-229.8\" font-family=\"Times,serif\" font-size=\"14.00\">YOX1 min</text>\n",
       "</g>\n",
       "<!-- 2&#45;&gt;3 -->\n",
       "<g id=\"edge7\" class=\"edge\"><title>2&#45;&gt;3</title>\n",
       "<path fill=\"none\" stroke=\"black\" d=\"M248.483,-221.94C212.473,-211.222 156.314,-194.503 107.645,-180 104.123,-178.95 100.478,-177.864 96.8125,-176.771\"/>\n",
       "<polygon fill=\"black\" stroke=\"black\" points=\"97.7167,-173.389 87.1336,-173.885 95.7165,-180.097 97.7167,-173.389\"/>\n",
       "</g>\n",
       "<!-- 2&#45;&gt;4 -->\n",
       "<g id=\"edge8\" class=\"edge\"><title>2&#45;&gt;4</title>\n",
       "<path fill=\"none\" stroke=\"black\" d=\"M261.118,-218.326C244.073,-208.128 221.139,-194.407 202.375,-183.18\"/>\n",
       "<polygon fill=\"black\" stroke=\"black\" points=\"203.921,-180.027 193.543,-177.896 200.327,-186.034 203.921,-180.027\"/>\n",
       "</g>\n",
       "<!-- 2&#45;&gt;5 -->\n",
       "<g id=\"edge9\" class=\"edge\"><title>2&#45;&gt;5</title>\n",
       "<path fill=\"none\" stroke=\"black\" d=\"M286.634,-215.697C287.075,-207.983 287.604,-198.712 288.096,-190.112\"/>\n",
       "<polygon fill=\"black\" stroke=\"black\" points=\"291.591,-190.288 288.668,-180.104 284.603,-189.888 291.591,-190.288\"/>\n",
       "</g>\n",
       "<!-- 6 -->\n",
       "<g id=\"node7\" class=\"node\"><title>6</title>\n",
       "<ellipse fill=\"none\" stroke=\"black\" cx=\"168.645\" cy=\"-90\" rx=\"51.2492\" ry=\"18\"/>\n",
       "<text text-anchor=\"middle\" x=\"168.645\" y=\"-85.8\" font-family=\"Times,serif\" font-size=\"14.00\">NDD1 max</text>\n",
       "</g>\n",
       "<!-- 3&#45;&gt;6 -->\n",
       "<g id=\"edge10\" class=\"edge\"><title>3&#45;&gt;6</title>\n",
       "<path fill=\"none\" stroke=\"black\" d=\"M75.3818,-146.326C92.6508,-136.081 115.913,-122.282 134.885,-111.027\"/>\n",
       "<polygon fill=\"black\" stroke=\"black\" points=\"136.72,-114.008 143.535,-105.896 133.148,-107.988 136.72,-114.008\"/>\n",
       "</g>\n",
       "<!-- 4&#45;&gt;6 -->\n",
       "<g id=\"edge11\" class=\"edge\"><title>4&#45;&gt;6</title>\n",
       "<path fill=\"none\" stroke=\"black\" d=\"M168.645,-143.697C168.645,-135.983 168.645,-126.712 168.645,-118.112\"/>\n",
       "<polygon fill=\"black\" stroke=\"black\" points=\"172.145,-118.104 168.645,-108.104 165.145,-118.104 172.145,-118.104\"/>\n",
       "</g>\n",
       "<!-- 5&#45;&gt;6 -->\n",
       "<g id=\"edge12\" class=\"edge\"><title>5&#45;&gt;6</title>\n",
       "<path fill=\"none\" stroke=\"black\" d=\"M264.28,-146.326C246.452,-136.012 222.395,-122.095 202.87,-110.8\"/>\n",
       "<polygon fill=\"black\" stroke=\"black\" points=\"204.386,-107.633 193.977,-105.655 200.881,-113.692 204.386,-107.633\"/>\n",
       "</g>\n",
       "<!-- 7 -->\n",
       "<g id=\"node8\" class=\"node\"><title>7</title>\n",
       "<ellipse fill=\"none\" stroke=\"black\" cx=\"168.645\" cy=\"-18\" rx=\"46.915\" ry=\"18\"/>\n",
       "<text text-anchor=\"middle\" x=\"168.645\" y=\"-13.8\" font-family=\"Times,serif\" font-size=\"14.00\">SWI4 min</text>\n",
       "</g>\n",
       "<!-- 6&#45;&gt;7 -->\n",
       "<g id=\"edge13\" class=\"edge\"><title>6&#45;&gt;7</title>\n",
       "<path fill=\"none\" stroke=\"black\" d=\"M168.645,-71.6966C168.645,-63.9827 168.645,-54.7125 168.645,-46.1124\"/>\n",
       "<polygon fill=\"black\" stroke=\"black\" points=\"172.145,-46.1043 168.645,-36.1043 165.145,-46.1044 172.145,-46.1043\"/>\n",
       "</g>\n",
       "</g>\n",
       "</svg>\n"
      ],
      "text/plain": [
       "<graphviz.files.Source at 0x1062fef10>"
      ]
     },
     "execution_count": 8,
     "metadata": {},
     "output_type": "execute_result"
    }
   ],
   "source": [
    "DrawGraph(PosetOfExtrema(networks[0], original_events, original_event_ordering ))"
   ]
  },
  {
   "cell_type": "markdown",
   "metadata": {},
   "source": [
    "## Alternative Poset of Extrema"
   ]
  },
  {
   "cell_type": "code",
   "execution_count": 9,
   "metadata": {
    "collapsed": true
   },
   "outputs": [],
   "source": [
    "all_events = [(\"SWI4\", \"min\"), (\"HCM1\", \"min\"), (\"NDD1\", \"min\"), (\"YOX1\", \"min\"), \n",
    "          (\"SWI4\", \"max\"), (\"HCM1\", \"max\"), (\"YOX1\", \"max\"), \n",
    "          (\"NDD1\", \"max\"),\n",
    "          (\"SWI4\",\"min\"),\n",
    "          (\"YOX1\", \"min\"), (\"HCM1\",\"min\"),\n",
    "          (\"NDD1\", \"min\"),\n",
    "          (\"SWI4\", \"max\"), (\"HCM1\", \"max\"), (\"YOX1\", \"max\"),\n",
    "          (\"NDD1\", \"max\")]\n",
    "all_event_ordering = [ (i,j) for i in [0,1,2,3] for j in [4,5,6] ] + \\\n",
    "                 [ (i,j) for i in [4,5,6] for j in [7] ] + \\\n",
    "                 [ (i,j) for i in [7] for j in [8] ] + \\\n",
    "                 [ (i,j) for i in [8] for j in [9,10] ] + \\\n",
    "                 [ (i,j) for i in [9,10] for j in [11,12,13,14] ] + \\\n",
    "                 [ (11,15) ]"
   ]
  },
  {
   "cell_type": "code",
   "execution_count": 10,
   "metadata": {
    "collapsed": false
   },
   "outputs": [
    {
     "data": {
      "image/svg+xml": [
       "<?xml version=\"1.0\" encoding=\"UTF-8\" standalone=\"no\"?>\n",
       "<!DOCTYPE svg PUBLIC \"-//W3C//DTD SVG 1.1//EN\"\n",
       " \"http://www.w3.org/Graphics/SVG/1.1/DTD/svg11.dtd\">\n",
       "<!-- Generated by graphviz version 2.38.0 (20140413.2041)\n",
       " -->\n",
       "<!-- Title: %3 Pages: 1 -->\n",
       "<svg width=\"466pt\" height=\"476pt\"\n",
       " viewBox=\"0.00 0.00 465.76 476.00\" xmlns=\"http://www.w3.org/2000/svg\" xmlns:xlink=\"http://www.w3.org/1999/xlink\">\n",
       "<g id=\"graph0\" class=\"graph\" transform=\"scale(1 1) rotate(0) translate(4 472)\">\n",
       "<title>%3</title>\n",
       "<polygon fill=\"white\" stroke=\"none\" points=\"-4,4 -4,-472 461.758,-472 461.758,4 -4,4\"/>\n",
       "<!-- 0 -->\n",
       "<g id=\"node1\" class=\"node\"><title>0</title>\n",
       "<ellipse fill=\"none\" stroke=\"black\" cx=\"292.113\" cy=\"-450\" rx=\"46.915\" ry=\"18\"/>\n",
       "<text text-anchor=\"middle\" x=\"292.113\" y=\"-445.8\" font-family=\"Times,serif\" font-size=\"14.00\">SWI4 min</text>\n",
       "</g>\n",
       "<!-- 4 -->\n",
       "<g id=\"node5\" class=\"node\"><title>4</title>\n",
       "<ellipse fill=\"none\" stroke=\"black\" cx=\"114.113\" cy=\"-378\" rx=\"48.351\" ry=\"18\"/>\n",
       "<text text-anchor=\"middle\" x=\"114.113\" y=\"-373.8\" font-family=\"Times,serif\" font-size=\"14.00\">SWI4 max</text>\n",
       "</g>\n",
       "<!-- 0&#45;&gt;4 -->\n",
       "<g id=\"edge1\" class=\"edge\"><title>0&#45;&gt;4</title>\n",
       "<path fill=\"none\" stroke=\"black\" d=\"M260.7,-436.647C231.485,-425.158 187.762,-407.963 155.669,-395.342\"/>\n",
       "<polygon fill=\"black\" stroke=\"black\" points=\"156.699,-391.986 146.112,-391.584 154.137,-398.501 156.699,-391.986\"/>\n",
       "</g>\n",
       "<!-- 5 -->\n",
       "<g id=\"node6\" class=\"node\"><title>5</title>\n",
       "<ellipse fill=\"none\" stroke=\"black\" cx=\"232.113\" cy=\"-378\" rx=\"52.2268\" ry=\"18\"/>\n",
       "<text text-anchor=\"middle\" x=\"232.113\" y=\"-373.8\" font-family=\"Times,serif\" font-size=\"14.00\">HCM1 max</text>\n",
       "</g>\n",
       "<!-- 0&#45;&gt;5 -->\n",
       "<g id=\"edge2\" class=\"edge\"><title>0&#45;&gt;5</title>\n",
       "<path fill=\"none\" stroke=\"black\" d=\"M278.197,-432.765C270.733,-424.056 261.382,-413.147 253.058,-403.435\"/>\n",
       "<polygon fill=\"black\" stroke=\"black\" points=\"255.536,-400.948 246.37,-395.633 250.221,-405.504 255.536,-400.948\"/>\n",
       "</g>\n",
       "<!-- 6 -->\n",
       "<g id=\"node7\" class=\"node\"><title>6</title>\n",
       "<ellipse fill=\"none\" stroke=\"black\" cx=\"353.113\" cy=\"-378\" rx=\"51.2492\" ry=\"18\"/>\n",
       "<text text-anchor=\"middle\" x=\"353.113\" y=\"-373.8\" font-family=\"Times,serif\" font-size=\"14.00\">YOX1 max</text>\n",
       "</g>\n",
       "<!-- 0&#45;&gt;6 -->\n",
       "<g id=\"edge3\" class=\"edge\"><title>0&#45;&gt;6</title>\n",
       "<path fill=\"none\" stroke=\"black\" d=\"M306.261,-432.765C313.85,-424.056 323.357,-413.147 331.82,-403.435\"/>\n",
       "<polygon fill=\"black\" stroke=\"black\" points=\"334.687,-405.472 338.618,-395.633 329.41,-400.873 334.687,-405.472\"/>\n",
       "</g>\n",
       "<!-- 1 -->\n",
       "<g id=\"node2\" class=\"node\"><title>1</title>\n",
       "<ellipse fill=\"none\" stroke=\"black\" cx=\"407.113\" cy=\"-450\" rx=\"50.7907\" ry=\"18\"/>\n",
       "<text text-anchor=\"middle\" x=\"407.113\" y=\"-445.8\" font-family=\"Times,serif\" font-size=\"14.00\">HCM1 min</text>\n",
       "</g>\n",
       "<!-- 1&#45;&gt;4 -->\n",
       "<g id=\"edge4\" class=\"edge\"><title>1&#45;&gt;4</title>\n",
       "<path fill=\"none\" stroke=\"black\" d=\"M369.78,-437.756C362.616,-435.736 355.153,-433.727 348.113,-432 270.148,-412.871 248.988,-415.491 171.113,-396 167.333,-395.054 163.429,-394.017 159.52,-392.938\"/>\n",
       "<polygon fill=\"black\" stroke=\"black\" points=\"160.434,-389.559 149.858,-390.191 158.52,-396.292 160.434,-389.559\"/>\n",
       "</g>\n",
       "<!-- 1&#45;&gt;5 -->\n",
       "<g id=\"edge5\" class=\"edge\"><title>1&#45;&gt;5</title>\n",
       "<path fill=\"none\" stroke=\"black\" d=\"M374.607,-435.998C346.333,-424.688 305.176,-408.225 274.356,-395.897\"/>\n",
       "<polygon fill=\"black\" stroke=\"black\" points=\"275.326,-392.516 264.742,-392.051 272.727,-399.015 275.326,-392.516\"/>\n",
       "</g>\n",
       "<!-- 1&#45;&gt;6 -->\n",
       "<g id=\"edge6\" class=\"edge\"><title>1&#45;&gt;6</title>\n",
       "<path fill=\"none\" stroke=\"black\" d=\"M394.316,-432.411C387.658,-423.781 379.39,-413.062 372.011,-403.497\"/>\n",
       "<polygon fill=\"black\" stroke=\"black\" points=\"374.698,-401.25 365.819,-395.47 369.155,-405.526 374.698,-401.25\"/>\n",
       "</g>\n",
       "<!-- 2 -->\n",
       "<g id=\"node3\" class=\"node\"><title>2</title>\n",
       "<ellipse fill=\"none\" stroke=\"black\" cx=\"61.1133\" cy=\"-450\" rx=\"49.8131\" ry=\"18\"/>\n",
       "<text text-anchor=\"middle\" x=\"61.1133\" y=\"-445.8\" font-family=\"Times,serif\" font-size=\"14.00\">NDD1 min</text>\n",
       "</g>\n",
       "<!-- 2&#45;&gt;4 -->\n",
       "<g id=\"edge7\" class=\"edge\"><title>2&#45;&gt;4</title>\n",
       "<path fill=\"none\" stroke=\"black\" d=\"M73.6735,-432.411C80.208,-423.781 88.3234,-413.062 95.5654,-403.497\"/>\n",
       "<polygon fill=\"black\" stroke=\"black\" points=\"98.3972,-405.555 101.643,-395.47 92.8163,-401.33 98.3972,-405.555\"/>\n",
       "</g>\n",
       "<!-- 2&#45;&gt;5 -->\n",
       "<g id=\"edge8\" class=\"edge\"><title>2&#45;&gt;5</title>\n",
       "<path fill=\"none\" stroke=\"black\" d=\"M92.8763,-435.998C120.417,-424.724 160.467,-408.329 190.551,-396.014\"/>\n",
       "<polygon fill=\"black\" stroke=\"black\" points=\"192.011,-399.198 199.94,-392.17 189.359,-392.72 192.011,-399.198\"/>\n",
       "</g>\n",
       "<!-- 2&#45;&gt;6 -->\n",
       "<g id=\"edge9\" class=\"edge\"><title>2&#45;&gt;6</title>\n",
       "<path fill=\"none\" stroke=\"black\" d=\"M97.8097,-437.756C104.853,-435.737 112.19,-433.728 119.113,-432 195.734,-412.878 216.407,-414.776 293.113,-396 297.136,-395.015 301.296,-393.945 305.462,-392.838\"/>\n",
       "<polygon fill=\"black\" stroke=\"black\" points=\"306.404,-396.209 315.134,-390.207 304.566,-389.454 306.404,-396.209\"/>\n",
       "</g>\n",
       "<!-- 3 -->\n",
       "<g id=\"node4\" class=\"node\"><title>3</title>\n",
       "<ellipse fill=\"none\" stroke=\"black\" cx=\"178.113\" cy=\"-450\" rx=\"49.8131\" ry=\"18\"/>\n",
       "<text text-anchor=\"middle\" x=\"178.113\" y=\"-445.8\" font-family=\"Times,serif\" font-size=\"14.00\">YOX1 min</text>\n",
       "</g>\n",
       "<!-- 3&#45;&gt;4 -->\n",
       "<g id=\"edge10\" class=\"edge\"><title>3&#45;&gt;4</title>\n",
       "<path fill=\"none\" stroke=\"black\" d=\"M163.27,-432.765C155.111,-423.841 144.84,-412.608 135.8,-402.719\"/>\n",
       "<polygon fill=\"black\" stroke=\"black\" points=\"138.207,-400.166 128.877,-395.147 133.041,-404.889 138.207,-400.166\"/>\n",
       "</g>\n",
       "<!-- 3&#45;&gt;5 -->\n",
       "<g id=\"edge11\" class=\"edge\"><title>3&#45;&gt;5</title>\n",
       "<path fill=\"none\" stroke=\"black\" d=\"M190.911,-432.411C197.568,-423.781 205.837,-413.062 213.215,-403.497\"/>\n",
       "<polygon fill=\"black\" stroke=\"black\" points=\"216.071,-405.526 219.408,-395.47 210.529,-401.25 216.071,-405.526\"/>\n",
       "</g>\n",
       "<!-- 3&#45;&gt;6 -->\n",
       "<g id=\"edge12\" class=\"edge\"><title>3&#45;&gt;6</title>\n",
       "<path fill=\"none\" stroke=\"black\" d=\"M210.211,-436.161C238.525,-424.835 279.987,-408.251 310.966,-395.859\"/>\n",
       "<polygon fill=\"black\" stroke=\"black\" points=\"312.642,-398.958 320.626,-391.995 310.042,-392.459 312.642,-398.958\"/>\n",
       "</g>\n",
       "<!-- 7 -->\n",
       "<g id=\"node8\" class=\"node\"><title>7</title>\n",
       "<ellipse fill=\"none\" stroke=\"black\" cx=\"232.113\" cy=\"-306\" rx=\"51.2492\" ry=\"18\"/>\n",
       "<text text-anchor=\"middle\" x=\"232.113\" y=\"-301.8\" font-family=\"Times,serif\" font-size=\"14.00\">NDD1 max</text>\n",
       "</g>\n",
       "<!-- 4&#45;&gt;7 -->\n",
       "<g id=\"edge13\" class=\"edge\"><title>4&#45;&gt;7</title>\n",
       "<path fill=\"none\" stroke=\"black\" d=\"M138.85,-362.326C156.119,-352.081 179.381,-338.282 198.353,-327.027\"/>\n",
       "<polygon fill=\"black\" stroke=\"black\" points=\"200.188,-330.008 207.003,-321.896 196.616,-323.988 200.188,-330.008\"/>\n",
       "</g>\n",
       "<!-- 5&#45;&gt;7 -->\n",
       "<g id=\"edge14\" class=\"edge\"><title>5&#45;&gt;7</title>\n",
       "<path fill=\"none\" stroke=\"black\" d=\"M232.113,-359.697C232.113,-351.983 232.113,-342.712 232.113,-334.112\"/>\n",
       "<polygon fill=\"black\" stroke=\"black\" points=\"235.613,-334.104 232.113,-324.104 228.613,-334.104 235.613,-334.104\"/>\n",
       "</g>\n",
       "<!-- 6&#45;&gt;7 -->\n",
       "<g id=\"edge15\" class=\"edge\"><title>6&#45;&gt;7</title>\n",
       "<path fill=\"none\" stroke=\"black\" d=\"M327.748,-362.326C309.92,-352.012 285.863,-338.095 266.338,-326.8\"/>\n",
       "<polygon fill=\"black\" stroke=\"black\" points=\"267.854,-323.633 257.445,-321.655 264.349,-329.692 267.854,-323.633\"/>\n",
       "</g>\n",
       "<!-- 8 -->\n",
       "<g id=\"node9\" class=\"node\"><title>8</title>\n",
       "<ellipse fill=\"none\" stroke=\"black\" cx=\"232.113\" cy=\"-234\" rx=\"46.915\" ry=\"18\"/>\n",
       "<text text-anchor=\"middle\" x=\"232.113\" y=\"-229.8\" font-family=\"Times,serif\" font-size=\"14.00\">SWI4 min</text>\n",
       "</g>\n",
       "<!-- 7&#45;&gt;8 -->\n",
       "<g id=\"edge16\" class=\"edge\"><title>7&#45;&gt;8</title>\n",
       "<path fill=\"none\" stroke=\"black\" d=\"M232.113,-287.697C232.113,-279.983 232.113,-270.712 232.113,-262.112\"/>\n",
       "<polygon fill=\"black\" stroke=\"black\" points=\"235.613,-262.104 232.113,-252.104 228.613,-262.104 235.613,-262.104\"/>\n",
       "</g>\n",
       "<!-- 9 -->\n",
       "<g id=\"node10\" class=\"node\"><title>9</title>\n",
       "<ellipse fill=\"none\" stroke=\"black\" cx=\"173.113\" cy=\"-162\" rx=\"49.8131\" ry=\"18\"/>\n",
       "<text text-anchor=\"middle\" x=\"173.113\" y=\"-157.8\" font-family=\"Times,serif\" font-size=\"14.00\">YOX1 min</text>\n",
       "</g>\n",
       "<!-- 8&#45;&gt;9 -->\n",
       "<g id=\"edge17\" class=\"edge\"><title>8&#45;&gt;9</title>\n",
       "<path fill=\"none\" stroke=\"black\" d=\"M218.429,-216.765C211.089,-208.056 201.894,-197.147 193.708,-187.435\"/>\n",
       "<polygon fill=\"black\" stroke=\"black\" points=\"196.254,-185.024 187.133,-179.633 190.901,-189.535 196.254,-185.024\"/>\n",
       "</g>\n",
       "<!-- 10 -->\n",
       "<g id=\"node11\" class=\"node\"><title>10</title>\n",
       "<ellipse fill=\"none\" stroke=\"black\" cx=\"291.113\" cy=\"-162\" rx=\"50.7907\" ry=\"18\"/>\n",
       "<text text-anchor=\"middle\" x=\"291.113\" y=\"-157.8\" font-family=\"Times,serif\" font-size=\"14.00\">HCM1 min</text>\n",
       "</g>\n",
       "<!-- 8&#45;&gt;10 -->\n",
       "<g id=\"edge18\" class=\"edge\"><title>8&#45;&gt;10</title>\n",
       "<path fill=\"none\" stroke=\"black\" d=\"M245.797,-216.765C253.138,-208.056 262.332,-197.147 270.518,-187.435\"/>\n",
       "<polygon fill=\"black\" stroke=\"black\" points=\"273.325,-189.535 277.094,-179.633 267.973,-185.024 273.325,-189.535\"/>\n",
       "</g>\n",
       "<!-- 11 -->\n",
       "<g id=\"node12\" class=\"node\"><title>11</title>\n",
       "<ellipse fill=\"none\" stroke=\"black\" cx=\"292.113\" cy=\"-90\" rx=\"49.8131\" ry=\"18\"/>\n",
       "<text text-anchor=\"middle\" x=\"292.113\" y=\"-85.8\" font-family=\"Times,serif\" font-size=\"14.00\">NDD1 min</text>\n",
       "</g>\n",
       "<!-- 9&#45;&gt;11 -->\n",
       "<g id=\"edge19\" class=\"edge\"><title>9&#45;&gt;11</title>\n",
       "<path fill=\"none\" stroke=\"black\" d=\"M198.06,-146.326C215.593,-136.012 239.252,-122.095 258.454,-110.8\"/>\n",
       "<polygon fill=\"black\" stroke=\"black\" points=\"260.355,-113.742 267.2,-105.655 256.806,-107.708 260.355,-113.742\"/>\n",
       "</g>\n",
       "<!-- 12 -->\n",
       "<g id=\"node13\" class=\"node\"><title>12</title>\n",
       "<ellipse fill=\"none\" stroke=\"black\" cx=\"408.113\" cy=\"-90\" rx=\"48.351\" ry=\"18\"/>\n",
       "<text text-anchor=\"middle\" x=\"408.113\" y=\"-85.8\" font-family=\"Times,serif\" font-size=\"14.00\">SWI4 max</text>\n",
       "</g>\n",
       "<!-- 9&#45;&gt;12 -->\n",
       "<g id=\"edge20\" class=\"edge\"><title>9&#45;&gt;12</title>\n",
       "<path fill=\"none\" stroke=\"black\" d=\"M210.275,-149.94C246.286,-139.222 302.445,-122.503 351.113,-108 354.636,-106.95 358.281,-105.864 361.946,-104.771\"/>\n",
       "<polygon fill=\"black\" stroke=\"black\" points=\"363.042,-108.097 371.625,-101.885 361.042,-101.389 363.042,-108.097\"/>\n",
       "</g>\n",
       "<!-- 13 -->\n",
       "<g id=\"node14\" class=\"node\"><title>13</title>\n",
       "<ellipse fill=\"none\" stroke=\"black\" cx=\"52.1133\" cy=\"-90\" rx=\"52.2268\" ry=\"18\"/>\n",
       "<text text-anchor=\"middle\" x=\"52.1133\" y=\"-85.8\" font-family=\"Times,serif\" font-size=\"14.00\">HCM1 max</text>\n",
       "</g>\n",
       "<!-- 9&#45;&gt;13 -->\n",
       "<g id=\"edge21\" class=\"edge\"><title>9&#45;&gt;13</title>\n",
       "<path fill=\"none\" stroke=\"black\" d=\"M147.748,-146.326C130.04,-136.081 106.186,-122.282 86.7321,-111.027\"/>\n",
       "<polygon fill=\"black\" stroke=\"black\" points=\"88.2708,-107.874 77.8622,-105.896 84.7654,-113.933 88.2708,-107.874\"/>\n",
       "</g>\n",
       "<!-- 14 -->\n",
       "<g id=\"node15\" class=\"node\"><title>14</title>\n",
       "<ellipse fill=\"none\" stroke=\"black\" cx=\"173.113\" cy=\"-90\" rx=\"51.2492\" ry=\"18\"/>\n",
       "<text text-anchor=\"middle\" x=\"173.113\" y=\"-85.8\" font-family=\"Times,serif\" font-size=\"14.00\">YOX1 max</text>\n",
       "</g>\n",
       "<!-- 9&#45;&gt;14 -->\n",
       "<g id=\"edge22\" class=\"edge\"><title>9&#45;&gt;14</title>\n",
       "<path fill=\"none\" stroke=\"black\" d=\"M173.113,-143.697C173.113,-135.983 173.113,-126.712 173.113,-118.112\"/>\n",
       "<polygon fill=\"black\" stroke=\"black\" points=\"176.613,-118.104 173.113,-108.104 169.613,-118.104 176.613,-118.104\"/>\n",
       "</g>\n",
       "<!-- 10&#45;&gt;11 -->\n",
       "<g id=\"edge23\" class=\"edge\"><title>10&#45;&gt;11</title>\n",
       "<path fill=\"none\" stroke=\"black\" d=\"M291.36,-143.697C291.471,-135.983 291.603,-126.712 291.726,-118.112\"/>\n",
       "<polygon fill=\"black\" stroke=\"black\" points=\"295.226,-118.153 291.869,-108.104 288.226,-118.053 295.226,-118.153\"/>\n",
       "</g>\n",
       "<!-- 10&#45;&gt;12 -->\n",
       "<g id=\"edge24\" class=\"edge\"><title>10&#45;&gt;12</title>\n",
       "<path fill=\"none\" stroke=\"black\" d=\"M315.926,-146.155C333.104,-135.877 356.162,-122.082 374.919,-110.86\"/>\n",
       "<polygon fill=\"black\" stroke=\"black\" points=\"376.953,-113.721 383.738,-105.584 373.359,-107.714 376.953,-113.721\"/>\n",
       "</g>\n",
       "<!-- 10&#45;&gt;13 -->\n",
       "<g id=\"edge25\" class=\"edge\"><title>10&#45;&gt;13</title>\n",
       "<path fill=\"none\" stroke=\"black\" d=\"M253.243,-149.908C211.882,-137.794 145.53,-118.361 100.443,-105.155\"/>\n",
       "<polygon fill=\"black\" stroke=\"black\" points=\"101.178,-101.724 90.5978,-102.272 99.2108,-108.441 101.178,-101.724\"/>\n",
       "</g>\n",
       "<!-- 10&#45;&gt;14 -->\n",
       "<g id=\"edge26\" class=\"edge\"><title>10&#45;&gt;14</title>\n",
       "<path fill=\"none\" stroke=\"black\" d=\"M266.089,-146.155C248.801,-135.9 225.611,-122.143 206.716,-110.934\"/>\n",
       "<polygon fill=\"black\" stroke=\"black\" points=\"208.488,-107.916 198.102,-105.824 204.917,-113.936 208.488,-107.916\"/>\n",
       "</g>\n",
       "<!-- 15 -->\n",
       "<g id=\"node16\" class=\"node\"><title>15</title>\n",
       "<ellipse fill=\"none\" stroke=\"black\" cx=\"292.113\" cy=\"-18\" rx=\"51.2492\" ry=\"18\"/>\n",
       "<text text-anchor=\"middle\" x=\"292.113\" y=\"-13.8\" font-family=\"Times,serif\" font-size=\"14.00\">NDD1 max</text>\n",
       "</g>\n",
       "<!-- 11&#45;&gt;15 -->\n",
       "<g id=\"edge27\" class=\"edge\"><title>11&#45;&gt;15</title>\n",
       "<path fill=\"none\" stroke=\"black\" d=\"M292.113,-71.6966C292.113,-63.9827 292.113,-54.7125 292.113,-46.1124\"/>\n",
       "<polygon fill=\"black\" stroke=\"black\" points=\"295.613,-46.1043 292.113,-36.1043 288.613,-46.1044 295.613,-46.1043\"/>\n",
       "</g>\n",
       "</g>\n",
       "</svg>\n"
      ],
      "text/plain": [
       "<graphviz.files.Source at 0x1066eed50>"
      ]
     },
     "execution_count": 10,
     "metadata": {},
     "output_type": "execute_result"
    }
   ],
   "source": [
    "DrawGraph(PosetOfExtrema(networks[0], all_events, all_event_ordering ))"
   ]
  },
  {
   "cell_type": "markdown",
   "metadata": {},
   "source": [
    "# Experiments\n",
    "\n",
    "There are 8 experiements corresponding to 3 binary choices:\n",
    "\n",
    "* Full networks vs Essential networks \n",
    "* Path matching in entire domain graph vs path matching in stable Morse sets\n",
    "* Original poset of extrema vs Alternative poset of extrema\n"
   ]
  },
  {
   "cell_type": "code",
   "execution_count": 11,
   "metadata": {
    "collapsed": true
   },
   "outputs": [],
   "source": [
    "def DisplayExperiment(results, title):\n",
    "    markdown_string = \"# \" + title + \"\\n\\n\"\n",
    "    markdown_string += \"| network | # parameters | # parameters with path match |\\n\"\n",
    "    markdown_string += \"| ------- |------------ | ---------------------------- |\\n\"\n",
    "    for i, item in enumerate(results):\n",
    "        [parameters_with_path_match, pgsize] = item\n",
    "        markdown_string += (\"|\" + str(i) + \"|\" + str(pgsize) + \"|\" + str(len(parameters_with_path_match)) + \"|\\n\")\n",
    "    from IPython.display import display, Markdown, Latex\n",
    "    display(Markdown(markdown_string))\n",
    "def DisplayStableExperiment(results, title):\n",
    "    markdown_string = \"# \" + title + \"\\n\\n\"\n",
    "    markdown_string += \"| network | # parameters | # parameters with stable FC | # parameters with path match |\\n\"\n",
    "    markdown_string += \"| ------- |------------ | ---------------------------- | ---------------------------- |\\n\"\n",
    "    for i, item in enumerate(results):\n",
    "        [results, pgsize] = item\n",
    "        parameters_with_path_match = sum([ 1 if pair[0] else 0 for pair in results])\n",
    "        parameters_with_stable_fc = sum([ 1 if pair[1] else 0 for pair in results])\n",
    "        markdown_string += (\"|\" + str(i) + \"|\" + str(pgsize) + \"|\" +str(parameters_with_stable_fc) +\"|\"+str(parameters_with_path_match) + \"|\\n\")\n",
    "    from IPython.display import display, Markdown, Latex\n",
    "    display(Markdown(markdown_string))"
   ]
  },
  {
   "cell_type": "code",
   "execution_count": 12,
   "metadata": {
    "collapsed": false
   },
   "outputs": [
    {
     "data": {
      "text/markdown": [
       "# Experiment 1: All parameters, original poset of extrema\n",
       "\n",
       "| network | # parameters | # parameters with path match |\n",
       "| ------- |------------ | ---------------------------- |\n",
       "|0|1080|22|\n",
       "|1|8640|316|\n",
       "|2|8640|180|\n",
       "|3|8640|226|\n",
       "|4|8640|280|\n",
       "|5|8640|176|\n",
       "|6|8640|270|\n",
       "|7|8640|176|\n",
       "|8|8640|176|\n"
      ],
      "text/plain": [
       "<IPython.core.display.Markdown object>"
      ]
     },
     "metadata": {},
     "output_type": "display_data"
    },
    {
     "name": "stdout",
     "output_type": "stream",
     "text": [
      "CPU times: user 11.5 s, sys: 75.3 ms, total: 11.6 s\n",
      "Wall time: 11.6 s\n"
     ]
    }
   ],
   "source": [
    "%%time\n",
    "experiment = lambda network : Analyze(network, original_events, original_event_ordering)\n",
    "experimental_results_1 = [ experiment(network) for network in networks ]\n",
    "DisplayExperiment(experimental_results_1, \"Experiment 1: All parameters, original poset of extrema\")"
   ]
  },
  {
   "cell_type": "code",
   "execution_count": 13,
   "metadata": {
    "collapsed": false
   },
   "outputs": [
    {
     "data": {
      "text/markdown": [
       "# Experiment 2: Essential parameters, original poset of extrema\n",
       "\n",
       "| network | # parameters | # parameters with path match |\n",
       "| ------- |------------ | ---------------------------- |\n",
       "|0|14|8|\n",
       "|1|56|38|\n",
       "|2|56|18|\n",
       "|3|56|25|\n",
       "|4|56|28|\n",
       "|5|56|16|\n",
       "|6|56|30|\n",
       "|7|56|24|\n",
       "|8|56|24|\n"
      ],
      "text/plain": [
       "<IPython.core.display.Markdown object>"
      ]
     },
     "metadata": {},
     "output_type": "display_data"
    },
    {
     "name": "stdout",
     "output_type": "stream",
     "text": [
      "CPU times: user 86.7 ms, sys: 2.94 ms, total: 89.6 ms\n",
      "Wall time: 88 ms\n"
     ]
    }
   ],
   "source": [
    "%%time\n",
    "experiment = lambda network : Analyze(network, original_events, original_event_ordering)\n",
    "experimental_results_2 = [ experiment(network) for network in essential_networks ]\n",
    "DisplayExperiment(experimental_results_2, \"Experiment 2: Essential parameters, original poset of extrema\")"
   ]
  },
  {
   "cell_type": "code",
   "execution_count": 14,
   "metadata": {
    "collapsed": false
   },
   "outputs": [
    {
     "data": {
      "text/markdown": [
       "# Experiment 3: All parameters, original poset, stable only\n",
       "\n",
       "| network | # parameters | # parameters with stable FC | # parameters with path match |\n",
       "| ------- |------------ | ---------------------------- | ---------------------------- |\n",
       "|0|1080|4|16|\n",
       "|1|8640|56|224|\n",
       "|2|8640|24|96|\n",
       "|3|8640|132|166|\n",
       "|4|8640|36|108|\n",
       "|5|8640|56|128|\n",
       "|6|8640|168|222|\n",
       "|7|8640|48|118|\n",
       "|8|8640|108|134|\n"
      ],
      "text/plain": [
       "<IPython.core.display.Markdown object>"
      ]
     },
     "metadata": {},
     "output_type": "display_data"
    },
    {
     "name": "stdout",
     "output_type": "stream",
     "text": [
      "CPU times: user 7.91 s, sys: 172 ms, total: 8.08 s\n",
      "Wall time: 7.99 s\n"
     ]
    }
   ],
   "source": [
    "%%time\n",
    "experiment = lambda network : AnalyzeOnStable(network, original_events, original_event_ordering)\n",
    "experimental_results_3 = [ experiment(network) for network in networks ]\n",
    "DisplayStableExperiment(experimental_results_3, \"Experiment 3: All parameters, original poset, stable only\")"
   ]
  },
  {
   "cell_type": "code",
   "execution_count": 15,
   "metadata": {
    "collapsed": false
   },
   "outputs": [
    {
     "data": {
      "text/markdown": [
       "# Experiment 4: Essential parameters, original poset, stable only\n",
       "\n",
       "| network | # parameters | # parameters with stable FC | # parameters with path match |\n",
       "| ------- |------------ | ---------------------------- | ---------------------------- |\n",
       "|0|14|2|2|\n",
       "|1|56|8|8|\n",
       "|2|56|0|0|\n",
       "|3|56|8|7|\n",
       "|4|56|0|0|\n",
       "|5|56|8|4|\n",
       "|6|56|28|18|\n",
       "|7|56|8|8|\n",
       "|8|56|28|18|\n"
      ],
      "text/plain": [
       "<IPython.core.display.Markdown object>"
      ]
     },
     "metadata": {},
     "output_type": "display_data"
    },
    {
     "name": "stdout",
     "output_type": "stream",
     "text": [
      "CPU times: user 78.4 ms, sys: 4.58 ms, total: 83 ms\n",
      "Wall time: 80.1 ms\n"
     ]
    }
   ],
   "source": [
    "%%time\n",
    "experiment = lambda network : AnalyzeOnStable(network, original_events, original_event_ordering)\n",
    "experimental_results_4 = [ experiment(network) for network in essential_networks ]\n",
    "DisplayStableExperiment(experimental_results_4, \"Experiment 4: Essential parameters, original poset, stable only\")"
   ]
  },
  {
   "cell_type": "code",
   "execution_count": 16,
   "metadata": {
    "collapsed": false
   },
   "outputs": [
    {
     "data": {
      "text/markdown": [
       "# Experiment 5: All parameters, alternative poset of extrema\n",
       "\n",
       "| network | # parameters | # parameters with path match |\n",
       "| ------- |------------ | ---------------------------- |\n",
       "|0|1080|22|\n",
       "|1|8640|264|\n",
       "|2|8640|176|\n",
       "|3|8640|224|\n",
       "|4|8640|278|\n",
       "|5|8640|176|\n",
       "|6|8640|268|\n",
       "|7|8640|176|\n",
       "|8|8640|176|\n"
      ],
      "text/plain": [
       "<IPython.core.display.Markdown object>"
      ]
     },
     "metadata": {},
     "output_type": "display_data"
    },
    {
     "name": "stdout",
     "output_type": "stream",
     "text": [
      "CPU times: user 10.3 s, sys: 93.1 ms, total: 10.4 s\n",
      "Wall time: 10.3 s\n"
     ]
    }
   ],
   "source": [
    "%%time\n",
    "experiment = lambda network : Analyze(network, all_events, all_event_ordering)\n",
    "experimental_results_5 = [ experiment(network) for network in networks ]\n",
    "DisplayExperiment(experimental_results_5, \"Experiment 5: All parameters, alternative poset of extrema\")"
   ]
  },
  {
   "cell_type": "code",
   "execution_count": 17,
   "metadata": {
    "collapsed": false
   },
   "outputs": [
    {
     "data": {
      "text/markdown": [
       "# Experiment 6: Essential parameters, alternative poset of extrema\n",
       "\n",
       "| network | # parameters | # parameters with path match |\n",
       "| ------- |------------ | ---------------------------- |\n",
       "|0|14|8|\n",
       "|1|56|32|\n",
       "|2|56|16|\n",
       "|3|56|24|\n",
       "|4|56|28|\n",
       "|5|56|16|\n",
       "|6|56|28|\n",
       "|7|56|24|\n",
       "|8|56|24|\n"
      ],
      "text/plain": [
       "<IPython.core.display.Markdown object>"
      ]
     },
     "metadata": {},
     "output_type": "display_data"
    },
    {
     "name": "stdout",
     "output_type": "stream",
     "text": [
      "CPU times: user 71.6 ms, sys: 2.4 ms, total: 74 ms\n",
      "Wall time: 72.6 ms\n"
     ]
    }
   ],
   "source": [
    "%%time\n",
    "experiment = lambda network : Analyze(network, all_events, all_event_ordering)\n",
    "experimental_results_6 = [ experiment(network) for network in essential_networks ]\n",
    "DisplayExperiment(experimental_results_6, \"Experiment 6: Essential parameters, alternative poset of extrema\")"
   ]
  },
  {
   "cell_type": "code",
   "execution_count": 18,
   "metadata": {
    "collapsed": false
   },
   "outputs": [
    {
     "data": {
      "text/markdown": [
       "# Experiment 7: All parameters, alternative poset of extrema, stable only\n",
       "\n",
       "| network | # parameters | # parameters with stable FC | # parameters with path match |\n",
       "| ------- |------------ | ---------------------------- | ---------------------------- |\n",
       "|0|1080|4|16|\n",
       "|1|8640|56|192|\n",
       "|2|8640|24|96|\n",
       "|3|8640|132|164|\n",
       "|4|8640|36|108|\n",
       "|5|8640|56|128|\n",
       "|6|8640|168|221|\n",
       "|7|8640|48|118|\n",
       "|8|8640|108|134|\n"
      ],
      "text/plain": [
       "<IPython.core.display.Markdown object>"
      ]
     },
     "metadata": {},
     "output_type": "display_data"
    },
    {
     "name": "stdout",
     "output_type": "stream",
     "text": [
      "CPU times: user 7.6 s, sys: 81 ms, total: 7.68 s\n",
      "Wall time: 7.65 s\n"
     ]
    }
   ],
   "source": [
    "%%time\n",
    "experiment = lambda network : AnalyzeOnStable(network, all_events, all_event_ordering)\n",
    "experimental_results_7 = [ experiment(network) for network in networks ]\n",
    "DisplayStableExperiment(experimental_results_7, \"Experiment 7: All parameters, alternative poset of extrema, stable only\")"
   ]
  },
  {
   "cell_type": "code",
   "execution_count": 19,
   "metadata": {
    "collapsed": false
   },
   "outputs": [
    {
     "data": {
      "text/markdown": [
       "# Experiment 8: Essential parameters, alternative poset of extrema, stable only\n",
       "\n",
       "| network | # parameters | # parameters with stable FC | # parameters with path match |\n",
       "| ------- |------------ | ---------------------------- | ---------------------------- |\n",
       "|0|14|2|2|\n",
       "|1|56|8|8|\n",
       "|2|56|0|0|\n",
       "|3|56|8|6|\n",
       "|4|56|0|0|\n",
       "|5|56|8|4|\n",
       "|6|56|28|17|\n",
       "|7|56|8|8|\n",
       "|8|56|28|18|\n"
      ],
      "text/plain": [
       "<IPython.core.display.Markdown object>"
      ]
     },
     "metadata": {},
     "output_type": "display_data"
    },
    {
     "name": "stdout",
     "output_type": "stream",
     "text": [
      "CPU times: user 80.7 ms, sys: 4.33 ms, total: 85.1 ms\n",
      "Wall time: 82.7 ms\n"
     ]
    }
   ],
   "source": [
    "%%time\n",
    "experiment = lambda network : AnalyzeOnStable(network, all_events, all_event_ordering)\n",
    "experimental_results_8 = [ experiment(network) for network in essential_networks ]\n",
    "DisplayStableExperiment(experimental_results_8, \"Experiment 8: Essential parameters, alternative poset of extrema, stable only\")"
   ]
  },
  {
   "cell_type": "code",
   "execution_count": null,
   "metadata": {
    "collapsed": true
   },
   "outputs": [],
   "source": []
  }
 ],
 "metadata": {
  "anaconda-cloud": {},
  "kernelspec": {
   "display_name": "Python [conda root]",
   "language": "python",
   "name": "conda-root-py"
  },
  "language_info": {
   "codemirror_mode": {
    "name": "ipython",
    "version": 2
   },
   "file_extension": ".py",
   "mimetype": "text/x-python",
   "name": "python",
   "nbconvert_exporter": "python",
   "pygments_lexer": "ipython2",
   "version": "2.7.12"
  }
 },
 "nbformat": 4,
 "nbformat_minor": 0
}
